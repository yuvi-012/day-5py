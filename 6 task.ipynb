{
 "cells": [
  {
   "cell_type": "code",
   "execution_count": null,
   "metadata": {},
   "outputs": [],
   "source": [
    "data = [10, 501, 22, 37, 100, 999, 87, 351]\n",
    "result = filter(lambda x: x > 4, data)\n",
    "print(list(result))\n",
    "     "
   ]
  },
  {
   "cell_type": "code",
   "execution_count": null,
   "metadata": {},
   "outputs": [],
   "source": [
    "data = [10, 'hello', 22, 'world', 100, 'python']\n",
    "\n",
    "is_integer = list(map(lambda x: isinstance(x, int), data))\n",
    "is_string = list(map(lambda x: isinstance(x, str), data))\n",
    "\n",
    "print(\"Is Integer:\", is_integer)\n",
    "print(\"Is String:\", is_string)"
   ]
  },
  {
   "cell_type": "code",
   "execution_count": null,
   "metadata": {},
   "outputs": [],
   "source": [
    "from functools import reduce\n",
    "\n",
    "fibonacci = lambda n: reduce(lambda x, _: x + [x[-1] + x[-2]], range(n-2), [1, 1])\n",
    "fib_series = fibonacci(50)\n",
    "print(fib_series)\n"
   ]
  },
  {
   "cell_type": "code",
   "execution_count": 3,
   "metadata": {},
   "outputs": [
    {
     "name": "stdout",
     "output_type": "stream",
     "text": [
      "True\n",
      "False\n",
      "True\n",
      "False\n"
     ]
    }
   ],
   "source": [
    "import re\n",
    "\n",
    "def validate_email(email):\n",
    "    pattern = r'^[a-zA-Z0-9._%+-]+@[a-zA-Z0-9.-]+\\.[a-zA-Z]{2,}$'\n",
    "    return re.match(pattern, email) is not None\n",
    "\n",
    "def validate_bangladesh_mobile(mobile):\n",
    "    pattern = r'^(?:\\+88|88)?(01[3-9]\\d{8})$'\n",
    "    return re.match(pattern, mobile) is not None\n",
    "\n",
    "def validate_usa_telephone(telephone):\n",
    "    pattern = r'^\\+?1?\\d{10}$'\n",
    "    return re.match(pattern, telephone) is not None\n",
    "\n",
    "def validate_password(password):\n",
    "    pattern = r'^(?=.*[a-z])(?=.*[A-Z])(?=.*\\d)(?=.*[@$!%*?&])[A-Za-z\\d@$!%*?&]{16,}$'\n",
    "    return re.match(pattern, password) is not None\n",
    "\n",
    "# Example Usage\n",
    "print(validate_email(\"test@example.com\"))  # True\n",
    "print(validate_bangladesh_mobile(\"+029345570\"))  # True\n",
    "print(validate_usa_telephone(\"+1234567890\"))  # True\n",
    "print(validate_password(\"Aa1@3456789bBcD\"))  # True\n"
   ]
  },
  {
   "cell_type": "code",
   "execution_count": null,
   "metadata": {},
   "outputs": [],
   "source": [
    "import re\n",
    "\n",
    "def validate_email(email):\n",
    "    pattern = r'^[a-zA-Z0-9._%+-]+@[a-zA-Z0-9.-]+\\.[a-zA-Z]{2,}$'\n",
    "    return re.match(pattern, email) is not None\n",
    "\n",
    "def validate_bangladesh_mobile(mobile):\n",
    "    pattern = r'^(?:\\+88|88)?(01[3-9]\\d{8})$'\n",
    "    return re.match(pattern, mobile) is not None\n",
    "\n",
    "def validate_usa_telephone(telephone):\n",
    "    pattern = r'^\\+?1?\\d{10}$'\n",
    "    return re.match(pattern, telephone) is not None\n",
    "\n",
    "def validate_password(password):\n",
    "    pattern = r'^(?=.*[a-z])(?=.*[A-Z])(?=.*\\d)(?=.*[@$!%*?&])[A-Za-z\\d@$!%*?&]{16,}$'\n",
    "    return re.match(pattern, password) is not None\n",
    "\n",
    "# Example Usage\n",
    "print(validate_email(\"test@example.com\"))  # True\n",
    "print(validate_bangladesh_mobile(\"+8801712345678\"))  # True\n",
    "print(validate_usa_telephone(\"+1234567890\"))  # True\n",
    "print(validate_password(\"Aa1@3456789bBcD\"))  # True\n"
   ]
  },
  {
   "cell_type": "code",
   "execution_count": null,
   "metadata": {},
   "outputs": [],
   "source": []
  },
  {
   "cell_type": "code",
   "execution_count": null,
   "metadata": {},
   "outputs": [],
   "source": []
  },
  {
   "cell_type": "code",
   "execution_count": null,
   "metadata": {},
   "outputs": [],
   "source": []
  },
  {
   "cell_type": "code",
   "execution_count": null,
   "metadata": {},
   "outputs": [],
   "source": []
  }
 ],
 "metadata": {
  "kernelspec": {
   "display_name": "Python 3",
   "language": "python",
   "name": "python3"
  },
  "language_info": {
   "codemirror_mode": {
    "name": "ipython",
    "version": 3
   },
   "file_extension": ".py",
   "mimetype": "text/x-python",
   "name": "python",
   "nbconvert_exporter": "python",
   "pygments_lexer": "ipython3",
   "version": "3.12.2"
  }
 },
 "nbformat": 4,
 "nbformat_minor": 2
}
